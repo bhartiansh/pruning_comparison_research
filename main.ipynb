{
  "nbformat": 4,
  "nbformat_minor": 0,
  "metadata": {
    "colab": {
      "provenance": [],
      "gpuType": "T4",
      "authorship_tag": "ABX9TyMZsWitcIpY8RObd9iR5iQo",
      "include_colab_link": true
    },
    "kernelspec": {
      "name": "python3",
      "display_name": "Python 3"
    },
    "language_info": {
      "name": "python"
    },
    "accelerator": "GPU"
  },
  "cells": [
    {
      "cell_type": "markdown",
      "metadata": {
        "id": "view-in-github",
        "colab_type": "text"
      },
      "source": [
        "<a href=\"https://colab.research.google.com/github/bhartiansh/pruning_comparison_research/blob/main/main.ipynb\" target=\"_parent\"><img src=\"https://colab.research.google.com/assets/colab-badge.svg\" alt=\"Open In Colab\"/></a>"
      ]
    },
    {
      "cell_type": "code",
      "execution_count": 3,
      "metadata": {
        "colab": {
          "base_uri": "https://localhost:8080/"
        },
        "id": "h3iSXMLhrdFW",
        "outputId": "1a2793b2-d77c-4cfd-d852-f8ff670b2a4d"
      },
      "outputs": [
        {
          "output_type": "stream",
          "name": "stdout",
          "text": [
            "Cloning into 'pruning_comparison_research'...\n",
            "remote: Enumerating objects: 33, done.\u001b[K\n",
            "remote: Counting objects: 100% (33/33), done.\u001b[K\n",
            "remote: Compressing objects: 100% (30/30), done.\u001b[K\n",
            "remote: Total 33 (delta 15), reused 0 (delta 0), pack-reused 0 (from 0)\u001b[K\n",
            "Receiving objects: 100% (33/33), 12.91 KiB | 12.91 MiB/s, done.\n",
            "Resolving deltas: 100% (15/15), done.\n",
            "/content/pruning_comparison_research\n"
          ]
        }
      ],
      "source": [
        "!git clone https://github.com/bhartiansh/pruning_comparison_research\n",
        "%cd pruning_comparison_research"
      ]
    },
    {
      "cell_type": "code",
      "source": [
        "import os\n",
        "import zipfile\n",
        "import urllib.request\n",
        "\n",
        "def download_and_prepare_tiny_imagenet():\n",
        "    data_dir = './tiny-imagenet-200'\n",
        "    zip_path = 'tiny-imagenet-200.zip'\n",
        "\n",
        "    if not os.path.exists(data_dir):\n",
        "        # Download dataset\n",
        "        urllib.request.urlretrieve(\n",
        "            'http://cs231n.stanford.edu/tiny-imagenet-200.zip',\n",
        "            zip_path\n",
        "        )\n",
        "\n",
        "        # Unzip it\n",
        "        with zipfile.ZipFile(zip_path, 'r') as zip_ref:\n",
        "            zip_ref.extractall('.')\n",
        "\n",
        "        os.remove(zip_path)  # Clean up the zip file\n",
        "\n",
        "        # Reorganize validation images into subfolders\n",
        "        val_dir = os.path.join(data_dir, 'val')\n",
        "        val_img_dir = os.path.join(val_dir, 'images')\n",
        "        val_annotations_path = os.path.join(val_dir, 'val_annotations.txt')\n",
        "\n",
        "        with open(val_annotations_path, 'r') as f:\n",
        "            val_img_map = {}\n",
        "            for line in f.readlines():\n",
        "                parts = line.strip().split('\\t')\n",
        "                val_img_map[parts[0]] = parts[1]\n",
        "\n",
        "        for img, folder in val_img_map.items():\n",
        "            folder_path = os.path.join(val_dir, folder)\n",
        "            if not os.path.exists(folder_path):\n",
        "                os.mkdir(folder_path)\n",
        "            img_path = os.path.join(val_img_dir, img)\n",
        "            os.rename(img_path, os.path.join(folder_path, img))\n",
        "\n",
        "        os.rmdir(val_img_dir)  # Remove old images folder\n",
        "\n",
        "# Run this before loading data\n",
        "download_and_prepare_tiny_imagenet()"
      ],
      "metadata": {
        "id": "OnbIyBz0s2Bs"
      },
      "execution_count": 4,
      "outputs": []
    },
    {
      "cell_type": "code",
      "source": [
        "from tinyimagenet_preprocessing import load_tiny_imagenet_data\n",
        "from mobilenetv2_baseline import build_mobilenetv2_baseline\n",
        "\n",
        "train_gen, val_gen = load_tiny_imagenet_data()\n",
        "model = build_mobilenetv2_baseline(num_classes=200)\n",
        "\n",
        "model.fit(train_gen, epochs=10, validation_data=val_gen)"
      ],
      "metadata": {
        "colab": {
          "base_uri": "https://localhost:8080/"
        },
        "id": "1KOSOjtqrl5M",
        "outputId": "d3214a73-5f32-49c4-ad81-de9b117683ef"
      },
      "execution_count": 5,
      "outputs": [
        {
          "output_type": "stream",
          "name": "stdout",
          "text": [
            "Found 100000 images belonging to 200 classes.\n",
            "Found 10000 images belonging to 200 classes.\n",
            "Downloading data from https://storage.googleapis.com/tensorflow/keras-applications/mobilenet_v2/mobilenet_v2_weights_tf_dim_ordering_tf_kernels_1.0_224_no_top.h5\n",
            "\u001b[1m9406464/9406464\u001b[0m \u001b[32m━━━━━━━━━━━━━━━━━━━━\u001b[0m\u001b[37m\u001b[0m \u001b[1m0s\u001b[0m 0us/step\n"
          ]
        },
        {
          "output_type": "stream",
          "name": "stderr",
          "text": [
            "/usr/local/lib/python3.11/dist-packages/keras/src/trainers/data_adapters/py_dataset_adapter.py:121: UserWarning: Your `PyDataset` class should call `super().__init__(**kwargs)` in its constructor. `**kwargs` can include `workers`, `use_multiprocessing`, `max_queue_size`. Do not pass these arguments to `fit()`, as they will be ignored.\n",
            "  self._warn_if_super_not_called()\n"
          ]
        },
        {
          "output_type": "stream",
          "name": "stdout",
          "text": [
            "Epoch 1/10\n",
            "\u001b[1m1563/1563\u001b[0m \u001b[32m━━━━━━━━━━━━━━━━━━━━\u001b[0m\u001b[37m\u001b[0m \u001b[1m398s\u001b[0m 222ms/step - accuracy: 0.2889 - loss: 3.1710 - val_accuracy: 0.0204 - val_loss: 14.5428\n",
            "Epoch 2/10\n",
            "\u001b[1m1563/1563\u001b[0m \u001b[32m━━━━━━━━━━━━━━━━━━━━\u001b[0m\u001b[37m\u001b[0m \u001b[1m335s\u001b[0m 208ms/step - accuracy: 0.5420 - loss: 1.7916 - val_accuracy: 0.1351 - val_loss: 6.5577\n",
            "Epoch 3/10\n",
            "\u001b[1m1563/1563\u001b[0m \u001b[32m━━━━━━━━━━━━━━━━━━━━\u001b[0m\u001b[37m\u001b[0m \u001b[1m320s\u001b[0m 205ms/step - accuracy: 0.6139 - loss: 1.4847 - val_accuracy: 0.0770 - val_loss: 9.0050\n",
            "Epoch 4/10\n",
            "\u001b[1m1563/1563\u001b[0m \u001b[32m━━━━━━━━━━━━━━━━━━━━\u001b[0m\u001b[37m\u001b[0m \u001b[1m321s\u001b[0m 205ms/step - accuracy: 0.6677 - loss: 1.2486 - val_accuracy: 0.2588 - val_loss: 4.6544\n",
            "Epoch 5/10\n",
            "\u001b[1m1563/1563\u001b[0m \u001b[32m━━━━━━━━━━━━━━━━━━━━\u001b[0m\u001b[37m\u001b[0m \u001b[1m321s\u001b[0m 205ms/step - accuracy: 0.7085 - loss: 1.0684 - val_accuracy: 0.2176 - val_loss: 4.9668\n",
            "Epoch 6/10\n",
            "\u001b[1m1563/1563\u001b[0m \u001b[32m━━━━━━━━━━━━━━━━━━━━\u001b[0m\u001b[37m\u001b[0m \u001b[1m320s\u001b[0m 205ms/step - accuracy: 0.7460 - loss: 0.9104 - val_accuracy: 0.2685 - val_loss: 4.2771\n",
            "Epoch 7/10\n",
            "\u001b[1m1563/1563\u001b[0m \u001b[32m━━━━━━━━━━━━━━━━━━━━\u001b[0m\u001b[37m\u001b[0m \u001b[1m320s\u001b[0m 205ms/step - accuracy: 0.7777 - loss: 0.7828 - val_accuracy: 0.4070 - val_loss: 3.2884\n",
            "Epoch 8/10\n",
            "\u001b[1m1563/1563\u001b[0m \u001b[32m━━━━━━━━━━━━━━━━━━━━\u001b[0m\u001b[37m\u001b[0m \u001b[1m320s\u001b[0m 205ms/step - accuracy: 0.8056 - loss: 0.6678 - val_accuracy: 0.3060 - val_loss: 4.6760\n",
            "Epoch 9/10\n",
            "\u001b[1m1563/1563\u001b[0m \u001b[32m━━━━━━━━━━━━━━━━━━━━\u001b[0m\u001b[37m\u001b[0m \u001b[1m321s\u001b[0m 205ms/step - accuracy: 0.8328 - loss: 0.5615 - val_accuracy: 0.3848 - val_loss: 3.7474\n",
            "Epoch 10/10\n",
            "\u001b[1m1563/1563\u001b[0m \u001b[32m━━━━━━━━━━━━━━━━━━━━\u001b[0m\u001b[37m\u001b[0m \u001b[1m320s\u001b[0m 205ms/step - accuracy: 0.8519 - loss: 0.4943 - val_accuracy: 0.3977 - val_loss: 3.6333\n"
          ]
        },
        {
          "output_type": "execute_result",
          "data": {
            "text/plain": [
              "<keras.src.callbacks.history.History at 0x7aaeca8f5f10>"
            ]
          },
          "metadata": {},
          "execution_count": 5
        }
      ]
    },
    {
      "cell_type": "code",
      "source": [],
      "metadata": {
        "id": "KUTQ7q9Usf1d"
      },
      "execution_count": null,
      "outputs": []
    }
  ]
}