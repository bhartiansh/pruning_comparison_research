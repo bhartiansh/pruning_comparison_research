{
  "nbformat": 4,
  "nbformat_minor": 0,
  "metadata": {
    "colab": {
      "provenance": [],
      "authorship_tag": "ABX9TyMxv87ZHK19zoQt5Ns5Ch8E",
      "include_colab_link": true
    },
    "kernelspec": {
      "name": "python3",
      "display_name": "Python 3"
    },
    "language_info": {
      "name": "python"
    }
  },
  "cells": [
    {
      "cell_type": "markdown",
      "metadata": {
        "id": "view-in-github",
        "colab_type": "text"
      },
      "source": [
        "<a href=\"https://colab.research.google.com/github/bhartiansh/pruning_comparison_research/blob/main/TinyImageNET_Preprocessing.ipynb\" target=\"_parent\"><img src=\"https://colab.research.google.com/assets/colab-badge.svg\" alt=\"Open In Colab\"/></a>"
      ]
    },
    {
      "cell_type": "code",
      "execution_count": null,
      "metadata": {
        "colab": {
          "base_uri": "https://localhost:8080/"
        },
        "id": "NxlOZBYjdM0D",
        "outputId": "e9a93f90-f1a5-4853-93c2-d82ad47f8be0"
      },
      "outputs": [
        {
          "output_type": "stream",
          "name": "stdout",
          "text": [
            "--2025-04-12 10:08:37--  https://raw.githubusercontent.com/yandexdataschool/Practical_DL/spring2019/week03_convnets/tiny_img.py\n",
            "Resolving raw.githubusercontent.com (raw.githubusercontent.com)... 185.199.108.133, 185.199.109.133, 185.199.110.133, ...\n",
            "Connecting to raw.githubusercontent.com (raw.githubusercontent.com)|185.199.108.133|:443... connected.\n",
            "HTTP request sent, awaiting response... 200 OK\n",
            "Length: 3378 (3.3K) [text/plain]\n",
            "Saving to: ‘tiny_img.py’\n",
            "\n",
            "tiny_img.py         100%[===================>]   3.30K  --.-KB/s    in 0s      \n",
            "\n",
            "2025-04-12 10:08:38 (58.3 MB/s) - ‘tiny_img.py’ saved [3378/3378]\n",
            "\n"
          ]
        }
      ],
      "source": [
        "!wget https://raw.githubusercontent.com/yandexdataschool/Practical_DL/spring2019/week03_convnets/tiny_img.py -O tiny_img.py"
      ]
    },
    {
      "cell_type": "code",
      "source": [
        "import tensorflow as tf\n",
        "from tensorflow.keras.preprocessing.image import ImageDataGenerator"
      ],
      "metadata": {
        "id": "nY-d6OCIeP9q"
      },
      "execution_count": 1,
      "outputs": []
    },
    {
      "cell_type": "code",
      "source": [
        "!git clone https://github.com/bhartiansh/pruning_comparison_research\n",
        "%cd pruning_comparison_research"
      ],
      "metadata": {
        "colab": {
          "base_uri": "https://localhost:8080/"
        },
        "id": "uXkVqXIYeTfK",
        "outputId": "ac128701-6b16-4d2d-dd7c-782ebd531394"
      },
      "execution_count": null,
      "outputs": [
        {
          "output_type": "stream",
          "name": "stdout",
          "text": [
            "Cloning into 'pruning_comparison_research'...\n",
            "remote: Enumerating objects: 13, done.\u001b[K\n",
            "remote: Counting objects: 100% (13/13), done.\u001b[K\n",
            "remote: Compressing objects: 100% (10/10), done.\u001b[K\n",
            "remote: Total 13 (delta 4), reused 0 (delta 0), pack-reused 0 (from 0)\u001b[K\n",
            "Receiving objects: 100% (13/13), 5.43 KiB | 2.71 MiB/s, done.\n",
            "Resolving deltas: 100% (4/4), done.\n",
            "/content/pruning_comparison_research\n"
          ]
        }
      ]
    },
    {
      "cell_type": "code",
      "source": [
        "def load_tiny_imagenet_data(data_dir='./tiny-imagenet-200/tiny-imagenet-200'):\n",
        "    train_dir = f'{data_dir}/train'\n",
        "    val_dir = f'{data_dir}/val'\n",
        "\n",
        "    # Validation folder fix (TinyImageNet stores val images differently)\n",
        "    import os\n",
        "    import shutil\n",
        "    import pandas as pd\n",
        "\n",
        "    val_annotations_path = os.path.join(val_dir, 'val_annotations.txt')\n",
        "    val_img_dir = os.path.join(val_dir, 'images')\n",
        "    val_data = pd.read_csv(val_annotations_path, sep='\\t', header=None)\n",
        "    val_data.columns = ['img', 'label', 'x1', 'y1', 'x2', 'y2']\n",
        "\n",
        "    for label in val_data['label'].unique():\n",
        "        os.makedirs(os.path.join(val_dir, label), exist_ok=True)\n",
        "\n",
        "    for idx, row in val_data.iterrows():\n",
        "        src = os.path.join(val_img_dir, row['img'])\n",
        "        dst = os.path.join(val_dir, row['label'], row['img'])\n",
        "        if os.path.exists(src):\n",
        "            shutil.move(src, dst)\n",
        "\n",
        "    if os.path.exists(val_img_dir):\n",
        "        shutil.rmtree(val_img_dir)\n",
        "\n",
        "    # Image generators\n",
        "    train_gen = ImageDataGenerator(rescale=1./255)\n",
        "    val_gen = ImageDataGenerator(rescale=1./255)\n",
        "\n",
        "    train_generator = train_gen.flow_from_directory(\n",
        "        train_dir,\n",
        "        target_size=(224, 224),\n",
        "        batch_size=64,\n",
        "        class_mode='categorical'\n",
        "    )\n",
        "\n",
        "    val_generator = val_gen.flow_from_directory(\n",
        "        val_dir,\n",
        "        target_size=(224, 224),\n",
        "        batch_size=64,\n",
        "        class_mode='categorical'\n",
        "    )\n",
        "\n",
        "    return train_generator, val_generator"
      ],
      "metadata": {
        "id": "QjuGU4LJi-fl"
      },
      "execution_count": 2,
      "outputs": []
    },
    {
      "cell_type": "code",
      "source": [],
      "metadata": {
        "id": "PMK_qda9oLWR"
      },
      "execution_count": null,
      "outputs": []
    }
  ]
}