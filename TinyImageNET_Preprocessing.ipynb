{
  "nbformat": 4,
  "nbformat_minor": 0,
  "metadata": {
    "colab": {
      "provenance": [],
      "gpuType": "T4",
      "authorship_tag": "ABX9TyMj36Nv3YTPyobpuzDqeMA8",
      "include_colab_link": true
    },
    "kernelspec": {
      "name": "python3",
      "display_name": "Python 3"
    },
    "language_info": {
      "name": "python"
    },
    "accelerator": "GPU"
  },
  "cells": [
    {
      "cell_type": "markdown",
      "metadata": {
        "id": "view-in-github",
        "colab_type": "text"
      },
      "source": [
        "<a href=\"https://colab.research.google.com/github/bhartiansh/pruning_comparison_research/blob/main/TinyImageNET_Preprocessing.ipynb\" target=\"_parent\"><img src=\"https://colab.research.google.com/assets/colab-badge.svg\" alt=\"Open In Colab\"/></a>"
      ]
    },
    {
      "cell_type": "code",
      "execution_count": 2,
      "metadata": {
        "colab": {
          "base_uri": "https://localhost:8080/"
        },
        "id": "NxlOZBYjdM0D",
        "outputId": "e9a93f90-f1a5-4853-93c2-d82ad47f8be0"
      },
      "outputs": [
        {
          "output_type": "stream",
          "name": "stdout",
          "text": [
            "--2025-04-12 10:08:37--  https://raw.githubusercontent.com/yandexdataschool/Practical_DL/spring2019/week03_convnets/tiny_img.py\n",
            "Resolving raw.githubusercontent.com (raw.githubusercontent.com)... 185.199.108.133, 185.199.109.133, 185.199.110.133, ...\n",
            "Connecting to raw.githubusercontent.com (raw.githubusercontent.com)|185.199.108.133|:443... connected.\n",
            "HTTP request sent, awaiting response... 200 OK\n",
            "Length: 3378 (3.3K) [text/plain]\n",
            "Saving to: ‘tiny_img.py’\n",
            "\n",
            "tiny_img.py         100%[===================>]   3.30K  --.-KB/s    in 0s      \n",
            "\n",
            "2025-04-12 10:08:38 (58.3 MB/s) - ‘tiny_img.py’ saved [3378/3378]\n",
            "\n"
          ]
        }
      ],
      "source": [
        "!wget https://raw.githubusercontent.com/yandexdataschool/Practical_DL/spring2019/week03_convnets/tiny_img.py -O tiny_img.py"
      ]
    },
    {
      "cell_type": "code",
      "source": [
        "import os\n",
        "import zipfile\n",
        "import shutil\n",
        "import pandas as pd\n",
        "from tensorflow.keras.preprocessing.image import ImageDataGenerator\n",
        "from tensorflow.keras.applications.mobilenet_v2 import preprocess_input"
      ],
      "metadata": {
        "id": "nY-d6OCIeP9q"
      },
      "execution_count": 13,
      "outputs": []
    },
    {
      "cell_type": "code",
      "source": [
        "!git clone https://github.com/bhartiansh/pruning_comparison_research\n",
        "%cd pruning_comparison_research"
      ],
      "metadata": {
        "colab": {
          "base_uri": "https://localhost:8080/"
        },
        "id": "uXkVqXIYeTfK",
        "outputId": "62fe643e-ffd5-47ca-8523-cac02512d78a"
      },
      "execution_count": 20,
      "outputs": [
        {
          "output_type": "stream",
          "name": "stdout",
          "text": [
            "Cloning into 'pruning_comparison_research'...\n",
            "remote: Enumerating objects: 3, done.\u001b[K\n",
            "remote: Counting objects: 100% (3/3), done.\u001b[K\n",
            "remote: Total 3 (delta 0), reused 0 (delta 0), pack-reused 0 (from 0)\u001b[K\n",
            "Receiving objects: 100% (3/3), done.\n",
            "/content/pruning_comparison_research/pruning_comparison_research/pruning_comparison_research\n"
          ]
        }
      ]
    },
    {
      "cell_type": "code",
      "source": [
        "#  Extract Tiny ImageNet if not already extracted\n",
        "zip_path = \"/content/drive/MyDrive/tiny-imagenet-200.zip\"  # update path if needed\n",
        "extract_path = \"/content/tiny-imagenet-200\""
      ],
      "metadata": {
        "id": "8npxBR0zfb7r"
      },
      "execution_count": 7,
      "outputs": []
    },
    {
      "cell_type": "code",
      "source": [
        "if not os.path.exists(extract_path):\n",
        "    with zipfile.ZipFile(zip_path, 'r') as zip_ref:\n",
        "        zip_ref.extractall(\"/content/\")"
      ],
      "metadata": {
        "id": "OXjHEFoEfnhU"
      },
      "execution_count": 8,
      "outputs": []
    },
    {
      "cell_type": "code",
      "source": [
        "# Define paths\n",
        "train_dir = os.path.join(extract_path, 'train')\n",
        "val_dir = os.path.join(extract_path, 'val/images')"
      ],
      "metadata": {
        "id": "wdu4W_C_fqVa"
      },
      "execution_count": 9,
      "outputs": []
    },
    {
      "cell_type": "code",
      "source": [
        "val_dir = \"/content/tiny-imagenet-200/val\"\n",
        "val_images_dir = os.path.join(val_dir, 'images')\n",
        "annotations_file = os.path.join(val_dir, 'val_annotations.txt')\n",
        "\n",
        "# 📄 Read val_annotations.txt\n",
        "df = pd.read_csv(annotations_file, sep=\"\\t\", header=None)\n",
        "df.columns = ['file', 'class', 'x1', 'y1', 'x2', 'y2']\n",
        "\n",
        "# 🗂️ Create folders and move images\n",
        "for index, row in df.iterrows():\n",
        "    class_dir = os.path.join(val_dir, 'images_by_class', row['class'])\n",
        "    os.makedirs(class_dir, exist_ok=True)\n",
        "\n",
        "    src = os.path.join(val_images_dir, row['file'])\n",
        "    dst = os.path.join(class_dir, row['file'])\n",
        "    if os.path.exists(src):\n",
        "        shutil.move(src, dst)\n",
        "\n",
        "# ✅ Update val_dir path to point to newly structured folder\n",
        "val_dir = os.path.join(val_dir, 'images_by_class')"
      ],
      "metadata": {
        "id": "7fVPqmRdfvIT"
      },
      "execution_count": 11,
      "outputs": []
    },
    {
      "cell_type": "code",
      "source": [
        "# Data Generators (64x64 is MobileNetV2’s minimum)\n",
        "train_datagen = ImageDataGenerator(\n",
        "    preprocessing_function=preprocess_input,\n",
        "    horizontal_flip=True\n",
        ")\n",
        "\n",
        "val_datagen = ImageDataGenerator(\n",
        "    preprocessing_function=preprocess_input\n",
        ")\n",
        "\n",
        "train_generator = train_datagen.flow_from_directory(\n",
        "    train_dir,\n",
        "    target_size=(64, 64),\n",
        "    batch_size=64,\n",
        "    class_mode='categorical'\n",
        ")\n",
        "\n",
        "val_generator = val_datagen.flow_from_directory(\n",
        "    val_dir,\n",
        "    target_size=(64, 64),\n",
        "    batch_size=64,\n",
        "    class_mode='categorical'\n",
        ")"
      ],
      "metadata": {
        "colab": {
          "base_uri": "https://localhost:8080/"
        },
        "id": "f9vQahcbfssj",
        "outputId": "5d49ca0e-f888-4732-ee27-7daf31f7b7c1"
      },
      "execution_count": 12,
      "outputs": [
        {
          "output_type": "stream",
          "name": "stdout",
          "text": [
            "Found 100000 images belonging to 200 classes.\n",
            "Found 10000 images belonging to 200 classes.\n"
          ]
        }
      ]
    }
  ]
}