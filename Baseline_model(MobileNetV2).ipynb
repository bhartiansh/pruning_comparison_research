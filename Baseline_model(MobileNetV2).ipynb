{
  "nbformat": 4,
  "nbformat_minor": 0,
  "metadata": {
    "colab": {
      "provenance": [],
      "authorship_tag": "ABX9TyN259h8TSLm5EYzHFJTAZo/",
      "include_colab_link": true
    },
    "kernelspec": {
      "name": "python3",
      "display_name": "Python 3"
    },
    "language_info": {
      "name": "python"
    }
  },
  "cells": [
    {
      "cell_type": "markdown",
      "metadata": {
        "id": "view-in-github",
        "colab_type": "text"
      },
      "source": [
        "<a href=\"https://colab.research.google.com/github/bhartiansh/pruning_comparison_research/blob/main/Baseline_model(MobileNetV2).ipynb\" target=\"_parent\"><img src=\"https://colab.research.google.com/assets/colab-badge.svg\" alt=\"Open In Colab\"/></a>"
      ]
    },
    {
      "cell_type": "code",
      "execution_count": 1,
      "metadata": {
        "colab": {
          "base_uri": "https://localhost:8080/"
        },
        "id": "GTiLXZmTmxff",
        "outputId": "650175e6-bff0-4526-b5dd-fe515154a8f4"
      },
      "outputs": [
        {
          "output_type": "stream",
          "name": "stdout",
          "text": [
            "Cloning into 'pruning_comparison_research'...\n",
            "remote: Enumerating objects: 10, done.\u001b[K\n",
            "remote: Counting objects: 100% (10/10), done.\u001b[K\n",
            "remote: Compressing objects: 100% (7/7), done.\u001b[K\n",
            "remote: Total 10 (delta 2), reused 0 (delta 0), pack-reused 0 (from 0)\u001b[K\n",
            "Receiving objects: 100% (10/10), 4.91 KiB | 4.91 MiB/s, done.\n",
            "Resolving deltas: 100% (2/2), done.\n",
            "/content/pruning_comparison_research\n"
          ]
        }
      ],
      "source": [
        "!git clone https://github.com/bhartiansh/pruning_comparison_research\n",
        "%cd pruning_comparison_research"
      ]
    },
    {
      "cell_type": "code",
      "source": [],
      "metadata": {
        "id": "EleyWx-CmzIB"
      },
      "execution_count": null,
      "outputs": []
    }
  ]
}